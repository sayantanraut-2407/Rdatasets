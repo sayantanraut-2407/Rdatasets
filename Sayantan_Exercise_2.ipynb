{
  "cells": [
    {
      "cell_type": "markdown",
      "metadata": {
        "id": "view-in-github",
        "colab_type": "text"
      },
      "source": [
        "<a href=\"https://colab.research.google.com/github/sayantanraut-2407/Rdatasets/blob/master/Sayantan_Exercise_2.ipynb\" target=\"_parent\"><img src=\"https://colab.research.google.com/assets/colab-badge.svg\" alt=\"Open In Colab\"/></a>"
      ]
    },
    {
      "cell_type": "markdown",
      "metadata": {
        "id": "0FZeFzTWzrrd"
      },
      "source": [
        "# Homework 2 - Classification\n",
        "\n",
        "In this exercise you will use scikit-learn, a popular machine learning package in python to train and tune a classifier. A particularly useful feature is that all classifiers (and linear models) are called using the same API, so it is easy to test between different models (see the sklearn-intro notebook for examples). So in this exercise we will a classification technique (logistic regression) that is representative of methods and challenges you will encounter when using any classification method.\n",
        "\n",
        "\n",
        "## Dataset 1\n",
        "The dataset you will be using is default of credit card clients Data Set.\n",
        "There are two data files: \"CreditDefault_training.csv\" and \"CreditDefault_Xtest.csv\"\n",
        "Both files have the following fields, except the label (\"default.payment.next.month\") which is not available in \"CreditDefault_Xtest.csv\"\n",
        "\n",
        "Features:\n",
        "\n",
        "1 - LIMIT_BAL:  Amount of the given credit (NT dollar): it includes both the individual consumer credit and his/her family (supplementary) credit. <br>\n",
        "2 - SEX: (1 = male; 2 = female) <br>\n",
        "3- EDUCATION: (six levels: 1,2,3,4,5,6) <br>\n",
        "4 - MARRIAGE: (1 = married; 2 = single; 3 = others) <br>\n",
        "5 - AGE <br>\n",
        "\n",
        "From \"PAY_1\" to \"PAY_6\": History of past payment (Repayment status: -2: Balance paid in full and no transactions this period; -1: Balance paid in full, but account has a positive balance at end of period due to recent transactions for which payment has not yet come due; 0: Customer paid the minimum due amount, but not the entire balance; 1 = payment delay for one month; 2 = payment delay for two months; . . .; 8 = payment delay for eight months; 9 = payment delay for nine months and above.)<br>\n",
        "6 - PAY_1: the repayment status in September, 2005 <br>\n",
        "7 - PAY_2: the repayment status in August, 2005 <br>\n",
        "...<br>\n",
        "11 - PAY_6: the repayment status in April, 2005 <br>\n",
        "\n",
        "From \"BILL_AMT1\" to \"BILL_AMT6\": Amount of bill statement (NT dollar).<br>\n",
        "12 - BILL_AMT1 : amount of bill statement in September, 2005<br>\n",
        "13 - BILL_AMT2 : amount of bill statement in August, 2005<br>\n",
        "...<br>\n",
        "17 - BILL_AMT6 : amount of bill statement in April, 2005<br>\n",
        "\n",
        "From \"PAY_AMT1\" to \"PAY_AMT6\": Amount of previous payment (NT dollar).<br>\n",
        "18 - PAY_AMT1 : amount paid in September, 2005<br>\n",
        "19 - PAY_AMT2 : amount paid in August, 2005<br>\n",
        "...<br>\n",
        "23 - PAY_AMT6 : amount paid in April, 2005<br>\n",
        "\n",
        "Target:\n",
        "\n",
        "default.payment.next.month: binary variable, whether default payment (Yes = 1, No = 0)\n",
        "\n",
        "\n",
        "Training dataset, \"CreditDefault_training.csv\", contains 3985 rows and 24 columns. This is the training set containing both of the features and the target.\n",
        "Test dataset, \"CreditDefault_Xtest.csv\", contains 1000 rows and 23 columns. This is the test set which only contains the features.\n",
        "\n",
        "Prediction task is to determine whether there's credit default for a person.\n",
        "\n"
      ]
    },
    {
      "cell_type": "code",
      "execution_count": null,
      "metadata": {
        "id": "ZOKRx3iKPoKk"
      },
      "outputs": [],
      "source": [
        "import numpy as np\n",
        "import pandas as pd\n",
        "from google.colab import files\n",
        "import io"
      ]
    },
    {
      "cell_type": "code",
      "execution_count": null,
      "metadata": {
        "colab": {
          "base_uri": "https://localhost:8080/",
          "height": 108
        },
        "id": "c6NinknY-06j",
        "outputId": "72a9ae75-ea1d-41f5-cfa2-d3969138e9a7"
      },
      "outputs": [
        {
          "data": {
            "text/html": [
              "\n",
              "     <input type=\"file\" id=\"files-1d9ccb82-320c-4670-ad0a-36ec9fe97bca\" name=\"files[]\" multiple disabled\n",
              "        style=\"border:none\" />\n",
              "     <output id=\"result-1d9ccb82-320c-4670-ad0a-36ec9fe97bca\">\n",
              "      Upload widget is only available when the cell has been executed in the\n",
              "      current browser session. Please rerun this cell to enable.\n",
              "      </output>\n",
              "      <script>// Copyright 2017 Google LLC\n",
              "//\n",
              "// Licensed under the Apache License, Version 2.0 (the \"License\");\n",
              "// you may not use this file except in compliance with the License.\n",
              "// You may obtain a copy of the License at\n",
              "//\n",
              "//      http://www.apache.org/licenses/LICENSE-2.0\n",
              "//\n",
              "// Unless required by applicable law or agreed to in writing, software\n",
              "// distributed under the License is distributed on an \"AS IS\" BASIS,\n",
              "// WITHOUT WARRANTIES OR CONDITIONS OF ANY KIND, either express or implied.\n",
              "// See the License for the specific language governing permissions and\n",
              "// limitations under the License.\n",
              "\n",
              "/**\n",
              " * @fileoverview Helpers for google.colab Python module.\n",
              " */\n",
              "(function(scope) {\n",
              "function span(text, styleAttributes = {}) {\n",
              "  const element = document.createElement('span');\n",
              "  element.textContent = text;\n",
              "  for (const key of Object.keys(styleAttributes)) {\n",
              "    element.style[key] = styleAttributes[key];\n",
              "  }\n",
              "  return element;\n",
              "}\n",
              "\n",
              "// Max number of bytes which will be uploaded at a time.\n",
              "const MAX_PAYLOAD_SIZE = 100 * 1024;\n",
              "\n",
              "function _uploadFiles(inputId, outputId) {\n",
              "  const steps = uploadFilesStep(inputId, outputId);\n",
              "  const outputElement = document.getElementById(outputId);\n",
              "  // Cache steps on the outputElement to make it available for the next call\n",
              "  // to uploadFilesContinue from Python.\n",
              "  outputElement.steps = steps;\n",
              "\n",
              "  return _uploadFilesContinue(outputId);\n",
              "}\n",
              "\n",
              "// This is roughly an async generator (not supported in the browser yet),\n",
              "// where there are multiple asynchronous steps and the Python side is going\n",
              "// to poll for completion of each step.\n",
              "// This uses a Promise to block the python side on completion of each step,\n",
              "// then passes the result of the previous step as the input to the next step.\n",
              "function _uploadFilesContinue(outputId) {\n",
              "  const outputElement = document.getElementById(outputId);\n",
              "  const steps = outputElement.steps;\n",
              "\n",
              "  const next = steps.next(outputElement.lastPromiseValue);\n",
              "  return Promise.resolve(next.value.promise).then((value) => {\n",
              "    // Cache the last promise value to make it available to the next\n",
              "    // step of the generator.\n",
              "    outputElement.lastPromiseValue = value;\n",
              "    return next.value.response;\n",
              "  });\n",
              "}\n",
              "\n",
              "/**\n",
              " * Generator function which is called between each async step of the upload\n",
              " * process.\n",
              " * @param {string} inputId Element ID of the input file picker element.\n",
              " * @param {string} outputId Element ID of the output display.\n",
              " * @return {!Iterable<!Object>} Iterable of next steps.\n",
              " */\n",
              "function* uploadFilesStep(inputId, outputId) {\n",
              "  const inputElement = document.getElementById(inputId);\n",
              "  inputElement.disabled = false;\n",
              "\n",
              "  const outputElement = document.getElementById(outputId);\n",
              "  outputElement.innerHTML = '';\n",
              "\n",
              "  const pickedPromise = new Promise((resolve) => {\n",
              "    inputElement.addEventListener('change', (e) => {\n",
              "      resolve(e.target.files);\n",
              "    });\n",
              "  });\n",
              "\n",
              "  const cancel = document.createElement('button');\n",
              "  inputElement.parentElement.appendChild(cancel);\n",
              "  cancel.textContent = 'Cancel upload';\n",
              "  const cancelPromise = new Promise((resolve) => {\n",
              "    cancel.onclick = () => {\n",
              "      resolve(null);\n",
              "    };\n",
              "  });\n",
              "\n",
              "  // Wait for the user to pick the files.\n",
              "  const files = yield {\n",
              "    promise: Promise.race([pickedPromise, cancelPromise]),\n",
              "    response: {\n",
              "      action: 'starting',\n",
              "    }\n",
              "  };\n",
              "\n",
              "  cancel.remove();\n",
              "\n",
              "  // Disable the input element since further picks are not allowed.\n",
              "  inputElement.disabled = true;\n",
              "\n",
              "  if (!files) {\n",
              "    return {\n",
              "      response: {\n",
              "        action: 'complete',\n",
              "      }\n",
              "    };\n",
              "  }\n",
              "\n",
              "  for (const file of files) {\n",
              "    const li = document.createElement('li');\n",
              "    li.append(span(file.name, {fontWeight: 'bold'}));\n",
              "    li.append(span(\n",
              "        `(${file.type || 'n/a'}) - ${file.size} bytes, ` +\n",
              "        `last modified: ${\n",
              "            file.lastModifiedDate ? file.lastModifiedDate.toLocaleDateString() :\n",
              "                                    'n/a'} - `));\n",
              "    const percent = span('0% done');\n",
              "    li.appendChild(percent);\n",
              "\n",
              "    outputElement.appendChild(li);\n",
              "\n",
              "    const fileDataPromise = new Promise((resolve) => {\n",
              "      const reader = new FileReader();\n",
              "      reader.onload = (e) => {\n",
              "        resolve(e.target.result);\n",
              "      };\n",
              "      reader.readAsArrayBuffer(file);\n",
              "    });\n",
              "    // Wait for the data to be ready.\n",
              "    let fileData = yield {\n",
              "      promise: fileDataPromise,\n",
              "      response: {\n",
              "        action: 'continue',\n",
              "      }\n",
              "    };\n",
              "\n",
              "    // Use a chunked sending to avoid message size limits. See b/62115660.\n",
              "    let position = 0;\n",
              "    do {\n",
              "      const length = Math.min(fileData.byteLength - position, MAX_PAYLOAD_SIZE);\n",
              "      const chunk = new Uint8Array(fileData, position, length);\n",
              "      position += length;\n",
              "\n",
              "      const base64 = btoa(String.fromCharCode.apply(null, chunk));\n",
              "      yield {\n",
              "        response: {\n",
              "          action: 'append',\n",
              "          file: file.name,\n",
              "          data: base64,\n",
              "        },\n",
              "      };\n",
              "\n",
              "      let percentDone = fileData.byteLength === 0 ?\n",
              "          100 :\n",
              "          Math.round((position / fileData.byteLength) * 100);\n",
              "      percent.textContent = `${percentDone}% done`;\n",
              "\n",
              "    } while (position < fileData.byteLength);\n",
              "  }\n",
              "\n",
              "  // All done.\n",
              "  yield {\n",
              "    response: {\n",
              "      action: 'complete',\n",
              "    }\n",
              "  };\n",
              "}\n",
              "\n",
              "scope.google = scope.google || {};\n",
              "scope.google.colab = scope.google.colab || {};\n",
              "scope.google.colab._files = {\n",
              "  _uploadFiles,\n",
              "  _uploadFilesContinue,\n",
              "};\n",
              "})(self);\n",
              "</script> "
            ],
            "text/plain": [
              "<IPython.core.display.HTML object>"
            ]
          },
          "metadata": {},
          "output_type": "display_data"
        },
        {
          "name": "stdout",
          "output_type": "stream",
          "text": [
            "Saving CreditDefault_training.csv to CreditDefault_training.csv\n",
            "Saving CreditDefault_Xtest.csv to CreditDefault_Xtest.csv\n"
          ]
        }
      ],
      "source": [
        "# Uploading both files beforehand\n",
        "uploaded = files.upload()"
      ]
    },
    {
      "cell_type": "code",
      "execution_count": null,
      "metadata": {
        "id": "wLUGs9kXQDDG"
      },
      "outputs": [],
      "source": [
        "# Load your training data set\n",
        "training_data = pd.read_csv(io.BytesIO(uploaded['CreditDefault_training.csv']))"
      ]
    },
    {
      "cell_type": "code",
      "execution_count": null,
      "metadata": {
        "colab": {
          "base_uri": "https://localhost:8080/"
        },
        "id": "LYPHIV6FSUI2",
        "outputId": "5a8485fe-11c5-4750-a6be-5fa880369d20"
      },
      "outputs": [
        {
          "name": "stdout",
          "output_type": "stream",
          "text": [
            "   LIMIT_BAL  SEX  EDUCATION  MARRIAGE  AGE  PAY_1  PAY_2  PAY_3  PAY_4  \\\n",
            "0      50000    2          2         2   24     -1     -1     -1     -1   \n",
            "1      70000    2          2         2   24      0      0      0      0   \n",
            "2     420000    1          1         1   43     -2     -2     -2     -2   \n",
            "3      30000    1          2         3   53      1     -2     -1      2   \n",
            "4      50000    2          2         1   49      1      2      2      2   \n",
            "\n",
            "   PAY_5  ...  BILL_AMT4  BILL_AMT5  BILL_AMT6  PAY_AMT1  PAY_AMT2  PAY_AMT3  \\\n",
            "0      0  ...       6561       5091        353      1572      1572      6561   \n",
            "1      0  ...      64733      66680      71243      3000      3000      2500   \n",
            "2     -2  ...       2846       3027       5946     14274      8232      2853   \n",
            "3      0  ...       3825       3825          0         0      4070         0   \n",
            "4      0  ...      21951      22287      22778      1000      3321         0   \n",
            "\n",
            "   PAY_AMT4  PAY_AMT5  PAY_AMT6  default.payment.next.month  \n",
            "0       102       353     27000                           0  \n",
            "1      3000      5800         0                           0  \n",
            "2      3027      5946     32053                           0  \n",
            "3         0         0         0                           1  \n",
            "4      1000      1000      1001                           0  \n",
            "\n",
            "[5 rows x 24 columns]\n"
          ]
        }
      ],
      "source": [
        "print(training_data.head())\n",
        "\n",
        "# Split training data into X and y\n",
        "\n",
        "X = training_data.drop(\"default.payment.next.month\", axis=1)\n",
        "y = training_data[\"default.payment.next.month\"]\n"
      ]
    },
    {
      "cell_type": "markdown",
      "metadata": {
        "id": "YjyP9oUHTmo5"
      },
      "source": [
        "## Standardization and One-hot Encoding\n",
        "\n",
        "Standardize the continuous features and convert categorical variables ('SEX', 'EDUCATION', 'MARRIAGE', 'PAY_1', 'PAY_2', 'PAY_3', 'PAY_4', 'PAY_5', 'PAY_6') into dummy variables.<br>\n",
        "Note the situation where not all repayment status categories (-2, -1, 0, 1, 2, 3, 4, 5, 6, 7, 8, 9) necessarily appear in the training dataset for variables 'PAY_1', 'PAY_2', 'PAY_3', 'PAY_4', 'PAY_5', 'PAY_6'."
      ]
    },
    {
      "cell_type": "markdown",
      "metadata": {
        "id": "Uj3pFsrv_mv9"
      },
      "source": [
        "Standardization and one-hot encoding for training set and test set"
      ]
    },
    {
      "cell_type": "code",
      "execution_count": null,
      "metadata": {
        "id": "zPKfTRyiKueh"
      },
      "outputs": [],
      "source": [
        "# Load test data set\n",
        "\n",
        "test_data = pd.read_csv(io.BytesIO(uploaded['CreditDefault_Xtest.csv']))\n",
        "X_test = test_data.copy()"
      ]
    },
    {
      "cell_type": "code",
      "execution_count": null,
      "metadata": {
        "id": "dOrWKfdlK-_z"
      },
      "outputs": [],
      "source": [
        "#standardization and one-hot encoding\n",
        "\n",
        "categorical_features = [\"SEX\", \"EDUCATION\", \"MARRIAGE\", \"PAY_1\", \"PAY_2\", \"PAY_3\", \"PAY_4\", \"PAY_5\", \"PAY_6\"]\n",
        "continuous_features = list(set(X.columns) - set(categorical_features))\n",
        "\n",
        "# Standardization of features --->\n",
        "\n",
        "# Listing out features to normalize\n",
        "features_to_normalize = X.drop(categorical_features, axis=1).columns\n",
        "\n",
        "# Initializing the Standardization and Encoding libraries\n",
        "from sklearn.preprocessing import StandardScaler, OneHotEncoder\n",
        "from sklearn.compose import ColumnTransformer\n",
        "from sklearn.pipeline import Pipeline\n",
        "\n",
        "# Fit and transform the training data\n",
        "preprocessor = ColumnTransformer(\n",
        "    transformers=[\n",
        "        ('num', StandardScaler(), continuous_features),\n",
        "        ('cat', OneHotEncoder(drop='first', sparse_output=False), categorical_features) # drop='first' to not take the first of each categorical data\n",
        "    ])\n",
        "\n",
        "# Create a pipeline with the preprocessing steps\n",
        "pipeline = Pipeline(steps=[('preprocessor', preprocessor)])\n",
        "\n",
        "# Fit and transform the training set\n",
        "X_preprocessed = pipeline.fit_transform(X)\n",
        "\n",
        "# Transform the test set\n",
        "X_test_preprocessed = pipeline.transform(X_test)\n"
      ]
    },
    {
      "cell_type": "markdown",
      "metadata": {
        "id": "D_e0eeNz55Cg"
      },
      "source": [
        "\n",
        "**Splitting training data into training and validation set (70:30 ratio) (the code has been provided)**"
      ]
    },
    {
      "cell_type": "code",
      "execution_count": null,
      "metadata": {
        "id": "dveoLnWM7mt4"
      },
      "outputs": [],
      "source": [
        "from sklearn.model_selection import train_test_split\n",
        "X_train, X_val, y_train, y_val = train_test_split(X_preprocessed, y, test_size=0.3, random_state=42)"
      ]
    },
    {
      "cell_type": "markdown",
      "metadata": {
        "id": "-BteEz3T83c7"
      },
      "source": [
        "Print the shape of X_train, y_train, X_val"
      ]
    },
    {
      "cell_type": "code",
      "execution_count": null,
      "metadata": {
        "colab": {
          "base_uri": "https://localhost:8080/"
        },
        "id": "IAmEc8hJ86sF",
        "outputId": "475f6ab0-efdc-4202-9eb6-ea5a0c298630"
      },
      "outputs": [
        {
          "name": "stdout",
          "output_type": "stream",
          "text": [
            "Shape of Encoded Training Data: (2789, 73)\n",
            "Shape of Encoded Test Data: (2789,)\n",
            "Shape of Encoded Test Data: (1196, 73)\n"
          ]
        }
      ],
      "source": [
        "# Display the shape of the encoded arrays\n",
        "print(\"Shape of Encoded Training Data:\", X_train.shape)\n",
        "print(\"Shape of Encoded Test Data:\", y_train.shape)\n",
        "print(\"Shape of Encoded Test Data:\", X_val.shape)"
      ]
    },
    {
      "cell_type": "markdown",
      "metadata": {
        "id": "6D2n5k-L-BrM"
      },
      "source": [
        "## Logistic Regression\n",
        "\n",
        "As previously mentioned, the scikit-learn classification API makes it easy to train a classifier.\n",
        "\n",
        "\n",
        "Use LogisticRegression from sklearn.linear_model to make a logistic regression classifier."
      ]
    },
    {
      "cell_type": "code",
      "execution_count": null,
      "metadata": {
        "id": "NNJEfTx8-Mqj"
      },
      "outputs": [],
      "source": [
        "from sklearn.linear_model import LogisticRegression"
      ]
    },
    {
      "cell_type": "code",
      "execution_count": null,
      "metadata": {
        "colab": {
          "base_uri": "https://localhost:8080/"
        },
        "id": "236FjZN8-S8x",
        "outputId": "14aba062-e83e-49a6-e4e3-c7c35972e2d9"
      },
      "outputs": [
        {
          "name": "stderr",
          "output_type": "stream",
          "text": [
            "/usr/local/lib/python3.10/dist-packages/sklearn/linear_model/_logistic.py:458: ConvergenceWarning: lbfgs failed to converge (status=1):\n",
            "STOP: TOTAL NO. of ITERATIONS REACHED LIMIT.\n",
            "\n",
            "Increase the number of iterations (max_iter) or scale the data as shown in:\n",
            "    https://scikit-learn.org/stable/modules/preprocessing.html\n",
            "Please also refer to the documentation for alternative solver options:\n",
            "    https://scikit-learn.org/stable/modules/linear_model.html#logistic-regression\n",
            "  n_iter_i = _check_optimize_result(\n"
          ]
        }
      ],
      "source": [
        "# First, initialize the classifier with default parameters\n",
        "# then fit the classifier on training data and labels\n",
        "\n",
        "### WRITE CODE HERE ###\n",
        "clf = LogisticRegression(random_state=42).fit(X_train, y_train)"
      ]
    },
    {
      "cell_type": "code",
      "execution_count": null,
      "metadata": {
        "id": "RpE2jWXEFgW1"
      },
      "outputs": [],
      "source": [
        "# If there is any ConvergenceWarning, increase the number of iterations. (Let max_iter = 200)\n",
        "### WRITE CODE HERE ###\n",
        "clf = LogisticRegression(random_state=42, max_iter = 300).fit(X_train, y_train)"
      ]
    },
    {
      "cell_type": "code",
      "execution_count": null,
      "metadata": {
        "colab": {
          "base_uri": "https://localhost:8080/",
          "height": 518
        },
        "id": "UKR98kFw_lQO",
        "outputId": "b77ed56e-8897-448f-c990-76bf3794332f"
      },
      "outputs": [
        {
          "name": "stdout",
          "output_type": "stream",
          "text": [
            "\n",
            "\n",
            "\t\t --- Confusion Matrix --- \n",
            "\n"
          ]
        },
        {
          "data": {
            "image/png": "[encoded data removed]",
            "text/plain": [
              "<Figure size 640x480 with 2 Axes>"
            ]
          },
          "metadata": {},
          "output_type": "display_data"
        }
      ],
      "source": [
        "# predict the output for validation dataset\n",
        "### WRITE CODE HERE\n",
        "y_hat = clf.predict(X_val)\n",
        "\n",
        "from sklearn.metrics import accuracy_score, classification_report, confusion_matrix, ConfusionMatrixDisplay, roc_curve, auc, precision_recall_curve\n",
        "import matplotlib.pyplot as plt\n",
        "\n",
        "# Evaluate the performance on the validation set\n",
        "accuracy = accuracy_score(y_val, y_hat)\n",
        "score = clf.score(X_train, y_train)\n",
        "conf_matrix = confusion_matrix(y_val, y_hat)\n",
        "classification_rep = classification_report(y_val, y_hat)\n",
        "\n",
        "# Display the evaluation metrics\n",
        "\n",
        "# Accuracy\n",
        "# print(\"\\nAccuracy:\", accuracy)\n",
        "\n",
        "# Model Score\n",
        "# print(\"\\nCLF Score: \", score)\n",
        "\n",
        "# Classification Report\n",
        "# print('\\n\\n\\t\\t --- Classification Report --- \\n')\n",
        "# print(classification_report(y_val, y_hat, output_dict=False))\n",
        "\n",
        "# Confusion Matrix\n",
        "cm = confusion_matrix(y_val, y_hat, labels=clf.classes_)\n",
        "print('\\n\\n\\t\\t --- Confusion Matrix --- \\n')\n",
        "disp = ConfusionMatrixDisplay(confusion_matrix=cm, display_labels=clf.classes_)\n",
        "disp.plot()\n",
        "plt.show()\n"
      ]
    },
    {
      "cell_type": "markdown",
      "metadata": {
        "id": "gAaWBNcsAlF2"
      },
      "source": [
        "Implement my_precision(), my_recall(), my_accuracy() by yourselves"
      ]
    },
    {
      "cell_type": "code",
      "execution_count": null,
      "metadata": {
        "id": "SC-_P6AoAuQJ"
      },
      "outputs": [],
      "source": [
        "def my_precision(y, y_preds): #TP/(TP+FP)\n",
        "    tp = sum((y == 1) & (y_preds == 1))\n",
        "    fp = sum((y == 0) & (y_preds == 1))\n",
        "    p = tp + fp\n",
        "\n",
        "    return((tp/p) if p != 0 else 0)\n",
        "\n",
        "def my_recall(y, y_preds): #TP/(TP+FN)\n",
        "    tp = sum((y == 1) & (y_preds == 1))\n",
        "    fn = sum((y == 1) & (y_preds == 0))\n",
        "    r = tp + fn\n",
        "\n",
        "    return((tp/r) if r != 0 else 0)\n",
        "\n",
        "\n",
        "def my_accuracy(y, y_preds): #(TP+TN)/(TP+FP+FN+TN)\n",
        "    true_vals = sum(y == y_preds)\n",
        "    total = len(y)\n",
        "\n",
        "    return(true_vals/total)"
      ]
    },
    {
      "cell_type": "markdown",
      "metadata": {
        "id": "6x6-GqJ5Mp06"
      },
      "source": [
        "Use your above functions to compute precision, recall, and accuracy of your model on validation set:"
      ]
    },
    {
      "cell_type": "code",
      "execution_count": null,
      "metadata": {
        "colab": {
          "base_uri": "https://localhost:8080/"
        },
        "id": "MsQSYMcaMl1S",
        "outputId": "3d9f970c-ba90-44c6-f3a5-04f4d542297c"
      },
      "outputs": [
        {
          "name": "stdout",
          "output_type": "stream",
          "text": [
            "Precision:  0.6571428571428571\n",
            "Recall:     0.42592592592592593\n",
            "Accuracy:   0.8202341137123745\n"
          ]
        }
      ],
      "source": [
        "### WRITE CODE HERE\n",
        "print(f'Precision: {my_precision(y_val, y_hat):>19}')\n",
        "print(f'Recall: {my_recall(y_val, y_hat):>23}')\n",
        "print(f'Accuracy: {my_accuracy(y_val, y_hat):>20}')"
      ]
    },
    {
      "cell_type": "markdown",
      "metadata": {
        "id": "RKXWHHJ1OsMZ"
      },
      "source": [
        "Q. Accuracy<br>\n",
        "Ans - **0.8202341137123745**\n",
        "\n",
        "Q. Precision<br>\n",
        "Ans - **0.11722731906218145**\n",
        "\n",
        "Q. Recall<br>\n",
        "Ans - **0.42592592592592593**\n",
        "\n",
        "Q. Which metric (accuracy, precision, recall) is more appropriate and in what cases? Will there be scenarios where it is better to use precision than accuracy? Explain. <br>\n",
        "Ans -  Each metric highlights a different characteristic of the model's performance, and so depending on the context of our classification outcomes, we can choose to give more weightage to some over others -\n",
        "\n",
        "\n",
        "*   <u>Accuracy</u> - this metric is useful when there is a **balance** in the number of data points in each class. In such cases, accuracy measures give a good estimate of the model's performance.\n",
        "*   <u>Precision</u> - precision can be very valuable when the number of False Positives are **high**, as it highlights the accuracy of positive predictions. Thus, it can be useful when we are just focusing on having low False Positive values (for eg: video recommendation where having a better suggested video will have more impact than a video that the viewer is not interested in, but doesn't have very high consequences from the prediction).\n",
        "*   <u>Recall</u> - recall can be very useful when number of False Negatives are **high**, as it focusses on maximizing True Positives. Thus, it can be useful when we are primarily focusing on having low False Negative values (for eg: disease prediction applications where the criticality of missing actuak diseases are much important).\n",
        "\n",
        "Thus, Precision is better to use over Accuracy in cases where there could be more <u>imbalance</u> in our data points, or if we care more about <u>lowering False Negatives</u>, like in case of Video Recommendation or Spam Detection.\n",
        "\n",
        "\n",
        "\n",
        "Q. Which metric is suitable in this case? <br>\n",
        "Ans - From the above figures of the metrics, we can see that the number of False Negatives are higher. That is, the number of occurences when the loan defaults were predicted to not occur, however there was a default that actually happened. In general, if the cost of False Negatives is high, and we have an imbalance in our dataset, a more suitable metric to evaluate would be **Recall** since it makes more sense intuitively to improve this measure from a realistic perspective.\n"
      ]
    },
    {
      "cell_type": "code",
      "execution_count": null,
      "metadata": {
        "colab": {
          "base_uri": "https://localhost:8080/",
          "height": 514
        },
        "id": "nBPfthmNqchQ",
        "outputId": "7a1d4c4c-649e-4a95-fff8-190ea3d065bf"
      },
      "outputs": [
        {
          "name": "stdout",
          "output_type": "stream",
          "text": [
            "Class Distribution:\n",
            "0    76.913425\n",
            "1    23.086575\n",
            "Name: default.payment.next.month, dtype: float64 \n",
            "\n",
            "\n"
          ]
        },
        {
          "data": {
            "image/png": "[encoded data removed]",
            "text/plain": [
              "<Figure size 600x400 with 1 Axes>"
            ]
          },
          "metadata": {},
          "output_type": "display_data"
        }
      ],
      "source": [
        "# Checking imbalance in the dataset\n",
        "\n",
        "# Display the class distribution as percentages\n",
        "class_distribution = training_data[\"default.payment.next.month\"].value_counts(normalize=True) * 100\n",
        "print(\"Class Distribution:\")\n",
        "print(class_distribution, \"\\n\\n\")\n",
        "\n",
        "# Check the distribution of the target variable\n",
        "import seaborn as sns\n",
        "plt.figure(figsize=(6, 4))\n",
        "sns.countplot(data=training_data, x=\"default.payment.next.month\")\n",
        "plt.title('Distribution of the Target Variable')\n",
        "plt.show()"
      ]
    },
    {
      "cell_type": "markdown",
      "metadata": {
        "id": "766RPBVYqkrP"
      },
      "source": [
        "<br>\n",
        "\n",
        "As we can see, in this scenario there is an indication of <u>class imbalance</u>. So, it's quite important to carefully consider the Precision and Recall values in this specific context: <br>\n",
        "\n",
        "\n",
        "*   If the cost of false positives is **high** (i.e. having indications on more possible defaulters is more important in the context), we might consider prioritizing <u>improving precision</u>.\n",
        "*   If missing positive instances (false negatives) is of a **significant concern** (i.e. missing out of defaulters becomes costly for business), we might consider prioritizing <u>improving recall</u>."
      ]
    },
    {
      "cell_type": "markdown",
      "metadata": {
        "id": "6Bflc8MVP3K7"
      },
      "source": [
        "### ROC curve\n",
        "\n",
        "Use roc_Curve from sklearn.metrics and use matplotlib.pyplot to plot the ROC curve. Use validation set to make predictions and to draw ROC curve."
      ]
    },
    {
      "cell_type": "code",
      "execution_count": null,
      "metadata": {
        "colab": {
          "base_uri": "https://localhost:8080/",
          "height": 616
        },
        "id": "51E1Wc2QQDqt",
        "outputId": "8578ad37-9a51-43d9-f91c-c1bb5b4c5d39"
      },
      "outputs": [
        {
          "name": "stdout",
          "output_type": "stream",
          "text": [
            "AUC: 0.7678105751539877 \n",
            "\n",
            "\n"
          ]
        },
        {
          "data": {
            "image/png": "[encoded data removed]",
            "text/plain": [
              "<Figure size 800x600 with 1 Axes>"
            ]
          },
          "metadata": {},
          "output_type": "display_data"
        }
      ],
      "source": [
        "# Plot the ROC curve by giving appropriate names for title and axes.\n",
        "from sklearn.metrics import roc_curve, auc\n",
        "import sklearn.metrics as metrics\n",
        "\n",
        "# Making the Class Probability predictions on the validation set\n",
        "y_val_prob = clf.predict_proba(X_val)[:, 1]\n",
        "\n",
        "# Compute ROC curve and AUC\n",
        "fpr, tpr, thresholds = roc_curve(y_val, y_val_prob)\n",
        "roc_auc = auc(fpr, tpr)\n",
        "print(\"AUC:\", roc_auc, \"\\n\\n\")\n",
        "\n",
        "# Plot ROC curve\n",
        "import matplotlib.pyplot as plt\n",
        "plt.figure(figsize=(8, 6))\n",
        "plt.plot(fpr, tpr, color='darkorange', lw=2, label=f'ROC curve (AUC = {roc_auc:.2f})')\n",
        "plt.plot([0, 1], [0, 1], color='navy', lw=2, linestyle='--', label='Random Guess')\n",
        "plt.xlabel('False Positive Rate (FPR)')\n",
        "plt.ylabel('True Positive Rate (TPR) or Recall')\n",
        "plt.title('Receiver Operating Characteristic (ROC) Curve')\n",
        "plt.legend(loc='lower right')\n",
        "plt.show()"
      ]
    },
    {
      "cell_type": "markdown",
      "metadata": {
        "id": "OK9uSsm4Qdfu"
      },
      "source": [
        "Q. What is the AUC obtained?<br>\n",
        "Ans - The AUC value obtained is: **0.7678105751539877**"
      ]
    },
    {
      "cell_type": "markdown",
      "metadata": {
        "id": "E9X_maKDT63P"
      },
      "source": [
        "## Hyperparameters\n",
        "\n",
        "\"Model tuning\" refers to model adjustments to better fit the data, which is separate from \"fitting\" or \"training\" the model.\n"
      ]
    },
    {
      "cell_type": "markdown",
      "metadata": {
        "id": "OQMd79-sUEUr"
      },
      "source": [
        "Build a model with hyperparameter 'C' set to 0.1 and penalty set to 'l1'. Make predictions on validation set and compute accuracy, precision and recall."
      ]
    },
    {
      "cell_type": "code",
      "execution_count": 33,
      "metadata": {
        "colab": {
          "base_uri": "https://localhost:8080/"
        },
        "id": "1n6cx2_KUFYw",
        "outputId": "ae8f7caa-4848-49d5-bcc0-f7467b3c8ffa"
      },
      "outputs": [
        {
          "output_type": "stream",
          "name": "stdout",
          "text": [
            "Precision:   0.6772151898734177\n",
            "Recall:      0.3962962962962963\n",
            "Accuracy:    0.8210702341137124\n"
          ]
        }
      ],
      "source": [
        "### WRITE CODE HERE\n",
        "newclf = LogisticRegression(C = 0.1, penalty = 'l1', random_state=42, solver='liblinear', max_iter = 300).fit(X_train, y_train)\n",
        "y2 = newclf.predict(X_val)\n",
        "\n",
        "print(f'Precision: {my_precision(y_val, y2):>20}')\n",
        "print(f'Recall: {my_recall(y_val, y2):>23}')\n",
        "print(f'Accuracy: {my_accuracy(y_val, y2):>21}')"
      ]
    },
    {
      "cell_type": "markdown",
      "metadata": {
        "id": "kFYJ5hU-U7hL"
      },
      "source": [
        "Build a model with hyperparameter 'C' set to 0.5 and penalty set to 'l1'. Make predictions on validation set and compute accuracy, precision and recall."
      ]
    },
    {
      "cell_type": "code",
      "execution_count": 32,
      "metadata": {
        "colab": {
          "base_uri": "https://localhost:8080/"
        },
        "id": "3fnH0Pt9U8KT",
        "outputId": "63fb9aa4-07d5-4295-f0fa-bb2f995cff7e"
      },
      "outputs": [
        {
          "output_type": "stream",
          "name": "stdout",
          "text": [
            "Precision:   0.6608187134502924\n",
            "Recall:      0.4185185185185185\n",
            "Accuracy:    0.8202341137123745\n"
          ]
        }
      ],
      "source": [
        "### WRITE CODE HERE\n",
        "newclf = LogisticRegression(C = 0.5, penalty = 'l1', random_state=42, solver='liblinear', max_iter = 300).fit(X_train, y_train)\n",
        "y3 = newclf.predict(X_val)\n",
        "\n",
        "print(f'Precision: {my_precision(y_val, y3):>20}')\n",
        "print(f'Recall: {my_recall(y_val, y3):>23}')\n",
        "print(f'Accuracy: {my_accuracy(y_val, y3):>21}')"
      ]
    },
    {
      "cell_type": "markdown",
      "metadata": {
        "id": "pWQj9WiUVMHT"
      },
      "source": [
        "Build a model with hyperparameter 'C' set to 0.1 and penalty set to 'l2'. Make predictions on validation set and compute accuracy, precision and recall."
      ]
    },
    {
      "cell_type": "code",
      "execution_count": 30,
      "metadata": {
        "colab": {
          "base_uri": "https://localhost:8080/"
        },
        "id": "x6Tvpz7wVPAW",
        "outputId": "b9f43899-46d0-45c2-f012-726f628236f5"
      },
      "outputs": [
        {
          "output_type": "stream",
          "name": "stdout",
          "text": [
            "Precision:   0.6626506024096386\n",
            "Recall:      0.4074074074074074\n",
            "Accuracy:    0.8193979933110368\n"
          ]
        }
      ],
      "source": [
        "### WRITE CODE HERE\n",
        "newclf = LogisticRegression(C = 0.1, penalty = 'l2', random_state=42, solver='liblinear', max_iter = 300).fit(X_train, y_train)\n",
        "y4 = newclf.predict(X_val)\n",
        "\n",
        "print(f'Precision: {my_precision(y_val, y4):>20}')\n",
        "print(f'Recall: {my_recall(y_val, y4):>23}')\n",
        "print(f'Accuracy: {my_accuracy(y_val, y4):>21}')"
      ]
    },
    {
      "cell_type": "markdown",
      "metadata": {
        "id": "5ihWSDXiVWta"
      },
      "source": [
        "Build a model with hyperparameter 'C' set to 0.5 and penalty set to 'l2'. Make predictions on validation set and compute accuracy, precision and recall. (Try to use a different solver or increase the number of iterations if there is a ConvergenceWarning)"
      ]
    },
    {
      "cell_type": "code",
      "execution_count": 31,
      "metadata": {
        "colab": {
          "base_uri": "https://localhost:8080/"
        },
        "id": "9ggEfBX4VZdM",
        "outputId": "6384e232-7bf2-4861-ba63-ab3464a4380a"
      },
      "outputs": [
        {
          "output_type": "stream",
          "name": "stdout",
          "text": [
            "Precision:   0.6589595375722543\n",
            "Recall:      0.4222222222222222\n",
            "Accuracy:    0.8202341137123745\n"
          ]
        }
      ],
      "source": [
        "### WRITE CODE HERE\n",
        "newclf = LogisticRegression(C = 0.5, penalty = 'l2', random_state=42, solver='liblinear', max_iter = 300).fit(X_train, y_train)\n",
        "y5 = newclf.predict(X_val)\n",
        "\n",
        "print(f'Precision: {my_precision(y_val, y5):>20}')\n",
        "print(f'Recall: {my_recall(y_val, y5):>23}')\n",
        "print(f'Accuracy: {my_accuracy(y_val, y5):>21}')"
      ]
    },
    {
      "cell_type": "markdown",
      "metadata": {
        "id": "bXnNF73CWpYz"
      },
      "source": [
        "Q. Which of the above models is better?<br>\n",
        "Ans- The first one: hyperparameter 'C' set to 0.1 and penalty set to 'l1', is the best of the hyperparameter tuned models, as it has the best Precision and Accuracy values, which are the metrics to look out for in our model."
      ]
    },
    {
      "cell_type": "markdown",
      "metadata": {
        "id": "dRBjfOnjXFMj"
      },
      "source": [
        "# Test set\n",
        "\n",
        "You have worked on training and validation dataset so far, but test data does not include the labels. Choose the best hyperparameter values as seen in previous section and build a model. Use this model to make predictions on test set."
      ]
    },
    {
      "cell_type": "markdown",
      "source": [
        "In this case, from the above Logistic Regression models, the most ideal would be with C=0.5 and 'l2' penalty, since it shows the <u>best</u> Recall value and almost similar Accuracy and Precision values."
      ],
      "metadata": {
        "id": "La_7IsCOQJPH"
      }
    },
    {
      "cell_type": "code",
      "execution_count": 34,
      "metadata": {
        "colab": {
          "base_uri": "https://localhost:8080/"
        },
        "id": "vJWNXQvHXKuM",
        "outputId": "8884608f-4f28-49d9-fe9f-4630381c1022"
      },
      "outputs": [
        {
          "output_type": "stream",
          "name": "stdout",
          "text": [
            "Predictions on Test Set:\n",
            "[0 0 1 0 0 0 0 0 0 0 0 1 0 0 0 0 0 0 1 0 0 0 1 0 1 0 1 0 0 1 0 0 0 0 1 0 0\n",
            " 0 0 0 0 0 0 0 0 0 0 0 0 0 0 0 0 0 0 1 1 0 0 0 0 0 0 0 0 0 0 0 0 0 0 0 1 0\n",
            " 0 0 0 0 0 0 0 0 0 0 0 0 0 0 0 0 0 0 0 0 0 0 0 0 0 0 0 0 0 0 0 0 0 0 0 0 0\n",
            " 0 0 0 0 1 0 0 0 0 0 0 0 0 0 0 0 0 0 0 0 0 0 0 0 0 1 1 1 0 1 0 1 0 0 0 0 0\n",
            " 0 0 0 0 0 0 0 0 0 0 0 0 0 0 0 0 0 0 0 0 0 0 0 0 0 1 0 0 0 0 0 0 0 0 0 0 0\n",
            " 0 0 0 0 0 0 0 1 1 0 1 0 0 0 0 0 0 1 0 0 0 0 0 0 0 0 0 0 0 0 0 0 0 0 0 0 0\n",
            " 0 0 0 0 0 0 0 0 0 0 0 0 0 0 0 0 0 0 1 0 0 0 0 0 1 0 0 0 0 0 0 0 0 0 0 0 0\n",
            " 0 0 1 0 0 0 1 0 0 0 0 0 0 0 1 1 0 1 0 0 0 1 1 0 0 0 0 1 0 0 0 1 0 0 0 1 0\n",
            " 0 0 0 0 0 0 1 0 0 0 0 0 0 0 0 0 0 0 0 1 1 0 0 0 1 0 0 0 0 0 0 1 0 0 0 0 0\n",
            " 0 0 0 1 0 0 1 0 0 0 0 0 1 0 0 0 0 0 0 0 0 0 0 0 1 1 0 0 0 0 0 0 0 0 0 0 0\n",
            " 0 1 0 1 0 0 0 0 0 0 0 0 0 0 0 0 0 0 1 0 0 1 0 0 1 0 0 0 0 0 1 1 0 0 0 1 0\n",
            " 0 0 0 0 0 1 1 0 0 1 0 0 0 0 0 0 1 0 0 1 0 0 0 0 0 0 0 0 0 0 0 0 0 0 0 0 0\n",
            " 1 0 0 0 0 0 0 1 0 0 0 0 1 0 0 0 1 1 0 0 0 0 0 0 0 0 0 0 0 0 0 0 0 0 0 0 0\n",
            " 1 0 0 0 0 0 1 1 0 0 0 0 1 0 0 0 0 0 0 0 0 0 0 0 0 0 0 0 0 0 0 1 0 1 1 0 0\n",
            " 0 0 0 0 0 0 0 0 0 0 0 0 0 0 0 0 0 0 0 0 0 0 0 0 0 1 0 0 0 0 1 0 0 1 0 0 0\n",
            " 0 0 0 0 0 1 0 0 0 0 1 0 1 0 0 0 0 0 0 0 0 0 0 0 0 0 0 0 0 0 0 0 0 0 0 1 0\n",
            " 0 0 0 0 0 0 0 1 0 0 0 0 1 0 0 0 0 0 0 0 0 0 0 0 0 0 0 0 0 0 0 0 1 0 1 0 0\n",
            " 0 0 0 0 0 0 0 0 0 0 0 1 0 0 0 0 0 0 0 0 0 0 0 0 0 0 0 0 0 0 0 0 0 0 0 0 0\n",
            " 0 0 0 1 0 0 0 0 0 0 0 1 0 0 0 0 0 0 0 0 0 0 1 0 0 0 0 0 0 1 0 0 0 0 0 1 0\n",
            " 0 0 0 0 0 0 0 0 0 0 0 0 0 0 0 0 0 0 0 0 0 0 0 0 0 1 0 0 0 0 0 0 0 1 1 0 0\n",
            " 0 0 0 0 0 0 0 0 0 0 0 0 0 0 0 0 0 0 0 1 0 0 0 0 0 0 0 0 0 0 0 0 0 0 1 0 0\n",
            " 0 1 0 1 0 0 0 0 0 1 0 0 0 0 0 0 0 0 0 0 0 0 0 0 0 0 0 1 0 0 0 1 0 0 0 0 0\n",
            " 0 0 0 0 0 0 0 1 0 1 0 0 1 0 0 0 0 0 0 0 0 0 0 0 0 0 0 0 0 0 0 0 0 0 0 0 0\n",
            " 0 0 0 0 0 0 1 0 0 0 0 0 0 0 1 0 0 0 0 0 1 0 0 1 0 0 0 0 0 0 0 0 0 0 0 0 1\n",
            " 1 0 0 1 0 0 0 0 0 0 1 0 0 0 0 0 0 0 0 1 1 0 0 0 0 0 0 0 0 0 0 0 0 1 0 0 0\n",
            " 0 0 1 0 0 1 0 0 0 0 0 0 0 0 0 0 0 0 0 0 0 0 0 0 0 0 0 1 0 0 1 0 0 1 0 0 0\n",
            " 0 0 1 0 1 0 0 0 0 0 0 0 0 0 0 1 0 0 0 0 0 0 0 0 0 0 0 0 0 0 0 0 1 0 1 0 0\n",
            " 0]\n"
          ]
        }
      ],
      "source": [
        "# Construct your final logistic regression using the best hyperparameters obtained above (C and penalty) ###\n",
        "final_clf = LogisticRegression(C = 0.5, penalty = 'l2', random_state=42, solver='liblinear', max_iter = 300).fit(X_train, y_train)\n",
        "y_pred = final_clf.predict(X_test_preprocessed)\n",
        "\n",
        "# return the prediction as \"y_pred\"\n",
        "print(\"Predictions on Test Set:\")\n",
        "print(y_pred)"
      ]
    },
    {
      "cell_type": "markdown",
      "metadata": {
        "id": "3hH63r9qXr0_"
      },
      "source": [
        "# Dataset 2\n",
        "## Heart Disease Dataset Description\n",
        "\n",
        "The Heart Disease Dataset contains a number of variables that can be used to predict the presence of heart disease in patients. Each attribute potentially contributes information that could be used to determine heart disease risk.\n",
        "\n",
        "### Dataset Features:\n",
        "\n",
        "- **Age**: The patient's age in years.\n",
        "- **Sex**: The patient's sex (1 = male, 0 = female).\n",
        "- **Chest Pain Type**: Type of chest pain experienced (values ranging from 1 to 4).\n",
        "- **Resting Blood Pressure**: Resting blood pressure in mm Hg on admission to the hospital.\n",
        "- **Serum Cholestrol**: Serum cholesterol in mg/dl.\n",
        "- **Fasting Blood Sugar**: Fasting blood sugar > 120 mg/dl (1 = true; 0 = false).\n",
        "- **Resting Electrocardiographic Results**: Resting electrocardiographic results (values 0, 1, 2).\n",
        "- **Maximum Heart Rate Achieved**: Maximum heart rate achieved during thallium stress test.\n",
        "- **Exercise Induced Angina**: Exercise-induced angina (1 = yes; 0 = no).\n",
        "- **ST Depression**: ST depression induced by exercise relative to rest.\n",
        "- **Slope of the Peak Exercise ST Segment**: The slope of the peak exercise ST segment.\n",
        "- **Number of Major Vessels**: Number of major vessels colored by fluoroscopy (0-3).\n",
        "- **Thal**: A blood disorder called thalassemia (3 = normal; 6 = fixed defect; 7 = reversible defect).\n",
        "\n",
        "### Target Variable:\n",
        "\n",
        "- **Heart Disease Presence**: The presence of heart disease (0 = no, 1 = yes).\n",
        "\n",
        "\n"
      ]
    },
    {
      "cell_type": "code",
      "execution_count": null,
      "metadata": {
        "id": "t7gSdDiIzErK"
      },
      "outputs": [],
      "source": [
        "# Load the data set\n",
        "!pip install ucimlrepo\n",
        "\n",
        "from ucimlrepo import fetch_ucirepo\n",
        "import pandas as pd\n",
        "\n",
        "# Fetch dataset\n",
        "heart_disease = fetch_ucirepo(id=45)\n",
        "\n",
        "# Data (as pandas dataframes)\n",
        "X = heart_disease.data.features\n",
        "y = heart_disease.data.targets\n",
        "\n",
        "# Convert the target variable to binary\n",
        "# 0 indicates no disease, 1 indicates any level of disease\n",
        "y_binary = np.where(y == 0, 0, 1)\n",
        "y_binary_series = pd.Series(y_binary.reshape(-1), name='HeartDisease')\n",
        "# Now, X contains the features and y_binary contains the binary target\n",
        "print(X.head())\n",
        "print(y_binary_series.head())"
      ]
    },
    {
      "cell_type": "code",
      "execution_count": null,
      "metadata": {
        "id": "ND6XYd3itWdm"
      },
      "outputs": [],
      "source": [
        "# Handling missing values (ex- by removing rows with missing data)\n",
        "\n",
        "# Since 'y' (targets) do not have missing values, they can be used as is\n",
        "# However, ensure that the rows in 'y' correspond to the rows in the cleaned 'X'"
      ]
    },
    {
      "cell_type": "markdown",
      "metadata": {
        "id": "8MVch-0-owrH"
      },
      "source": [
        "Data preprocessing (Standardize the features, one-hot encoding, lable encoding)"
      ]
    },
    {
      "cell_type": "code",
      "execution_count": null,
      "metadata": {
        "id": "wShbdeiWomoY"
      },
      "outputs": [],
      "source": [
        "import pandas as pd\n",
        "from sklearn.preprocessing import StandardScaler, OneHotEncoder\n",
        "from sklearn.compose import ColumnTransformer\n"
      ]
    },
    {
      "cell_type": "markdown",
      "metadata": {
        "id": "6RSaaaHgr8Cd"
      },
      "source": [
        "Splitting training data into training and validation set (the code has been provided)"
      ]
    },
    {
      "cell_type": "code",
      "execution_count": null,
      "metadata": {
        "id": "3DzsHi6ir9IK"
      },
      "outputs": [],
      "source": [
        "from sklearn.model_selection import train_test_split\n",
        "X_train, X_val, y_train, y_val = train_test_split(X, y, test_size = 0.3, random_state=20)"
      ]
    },
    {
      "cell_type": "markdown",
      "metadata": {
        "id": "LXXOovbrsa2k"
      },
      "source": [
        "### Decision Tree\n",
        "From sklearn.tree use DecisionTreeClassifier to build a classification model with default parameters."
      ]
    },
    {
      "cell_type": "code",
      "execution_count": null,
      "metadata": {
        "id": "nqYXkEHDscGu"
      },
      "outputs": [],
      "source": [
        "from sklearn.tree import DecisionTreeClassifier\n",
        "### Fit the classifier on the training data\n",
        "# Please set random_state=30\n",
        "### WRITE CODE HERE ###\n"
      ]
    },
    {
      "cell_type": "code",
      "execution_count": null,
      "metadata": {
        "id": "g1z_pShQtcUX"
      },
      "outputs": [],
      "source": [
        "### Make predictions on the training data\n",
        "\n",
        "### WRITE CODE HERE ###\n"
      ]
    },
    {
      "cell_type": "markdown",
      "metadata": {
        "id": "kPp2cIUMuS4p"
      },
      "source": [
        "Print accuracy, precision and recall for the predictions made on the training data."
      ]
    },
    {
      "cell_type": "code",
      "execution_count": null,
      "metadata": {
        "id": "CpqQd8W0ayP_"
      },
      "outputs": [],
      "source": [
        "# Print accuracy, precision and recall for the predictions made on the training data."
      ]
    },
    {
      "cell_type": "code",
      "execution_count": null,
      "metadata": {
        "id": "QHx99fcqvA9R"
      },
      "outputs": [],
      "source": [
        "### Make predictions on the validation data\n",
        "### WRITE CODE HERE ###\n",
        "\n"
      ]
    },
    {
      "cell_type": "markdown",
      "metadata": {
        "id": "-77rKnkXvTs0"
      },
      "source": [
        "Print accuracy, prediction and recall for the predictions made on the validation data."
      ]
    },
    {
      "cell_type": "code",
      "execution_count": null,
      "metadata": {
        "id": "2e_HZneYva4d"
      },
      "outputs": [],
      "source": [
        "### WRITE CODE HERE ###\n",
        "\n"
      ]
    },
    {
      "cell_type": "markdown",
      "metadata": {
        "id": "xwIDnQCmvvqj"
      },
      "source": [
        "Plot ROC curve and obtain AUC for predictions on the validation data."
      ]
    },
    {
      "cell_type": "code",
      "execution_count": null,
      "metadata": {
        "id": "L9ZqUWdXv7D5"
      },
      "outputs": [],
      "source": [
        "# Plot the ROC curve by giving appropriate names for title and axes.\n",
        "\n",
        "### WRITE CODE HERE\n",
        "\n",
        "from sklearn.metrics import roc_curve\n",
        "import sklearn.metrics as metrics\n",
        "\n",
        "\n",
        "\n",
        "import matplotlib.pyplot as plt\n"
      ]
    },
    {
      "cell_type": "markdown",
      "metadata": {
        "id": "EHY7zX-LwNA-"
      },
      "source": [
        "Q. Based on the scores for training set and validation set, explain the performance of the above model in terms of bias and variance.<br>\n",
        "\n",
        "Ans -"
      ]
    },
    {
      "cell_type": "markdown",
      "metadata": {
        "id": "Gn_lR52Hwb0V"
      },
      "source": [
        "### Random Forest\n",
        "\n",
        "\n",
        "Decision Trees have low predictive power compared to other methods due to high variance. Random Forest increases prediction power at the expense of decreased interpretability.\n",
        "\n",
        "\n",
        "From sklearn.ensemble use RandomForestClassifier to build a classification model with default parameters."
      ]
    },
    {
      "cell_type": "code",
      "execution_count": null,
      "metadata": {
        "id": "V11dWNRLwjfr"
      },
      "outputs": [],
      "source": [
        "from sklearn.ensemble import RandomForestClassifier\n",
        "### Fit the classifier on the training data\n",
        "# Please set random_state=30\n",
        "### WRITE CODE HERE ###\n"
      ]
    },
    {
      "cell_type": "code",
      "execution_count": null,
      "metadata": {
        "id": "xYomCX4nw1yq"
      },
      "outputs": [],
      "source": [
        "### Make predictions on the training data\n",
        "### WRITE CODE HERE ###\n",
        "\n",
        "\n"
      ]
    },
    {
      "cell_type": "markdown",
      "metadata": {
        "id": "Q3wmGe-G1O4h"
      },
      "source": [
        "Print accuracy, precision and recall for the predictions made on the training data."
      ]
    },
    {
      "cell_type": "code",
      "execution_count": null,
      "metadata": {
        "id": "l_OUtD0Tbu0K"
      },
      "outputs": [],
      "source": []
    },
    {
      "cell_type": "code",
      "execution_count": null,
      "metadata": {
        "id": "k9WwHw3S1qvG"
      },
      "outputs": [],
      "source": [
        "### Make predictions on the validation data\n",
        "\n",
        "### WRITE CODE HERE ###"
      ]
    },
    {
      "cell_type": "markdown",
      "metadata": {
        "id": "Uq399RNb1tBH"
      },
      "source": [
        "Print accuracy, prediction and recall for the predictions made on the validation data."
      ]
    },
    {
      "cell_type": "code",
      "execution_count": null,
      "metadata": {
        "id": "1eDc8z5H1y8i"
      },
      "outputs": [],
      "source": [
        "### WRITE CODE HERE ###\n"
      ]
    },
    {
      "cell_type": "markdown",
      "metadata": {
        "id": "5-aEzhnY31GG"
      },
      "source": [
        "Plot ROC curve and obtain AUC for the validation predictions"
      ]
    },
    {
      "cell_type": "code",
      "execution_count": null,
      "metadata": {
        "id": "YBtxdmDa33fJ"
      },
      "outputs": [],
      "source": [
        "# Plot the ROC curve by giving appropriate names for title and axes.\n",
        "\n",
        "### WRITE CODE HERE\n",
        "\n",
        "from sklearn.metrics import roc_curve\n",
        "import sklearn.metrics as metrics\n",
        "\n",
        "\n",
        "\n",
        "import matplotlib.pyplot as plt\n"
      ]
    },
    {
      "cell_type": "markdown",
      "metadata": {
        "id": "fcld7NGV4GU_"
      },
      "source": [
        "Q. Based on the scores for training set and validation set, explain the performance of the above model in terms of bias and variance. Is the Random Forest model better or worse than the Decision Tree model? Explain why you think the performance may have improved or deteriorated.\n",
        "\n",
        "Ans-"
      ]
    },
    {
      "cell_type": "markdown",
      "metadata": {
        "id": "IY8Pzi-B4WAz"
      },
      "source": [
        "## Hyperparameters\n",
        "\n",
        "\"Model tuning\" refers to model adjustments to better fit the data, which is separate from \"fitting\" or \"training\" the model.\n",
        "\n",
        "There are aspects of some models that are user specified. For example, when using a random forest (which is basically an ensemble of decision trees), it is probably a good idea to choose the right number of underlying trees. Too many and the model might overfit, and too few and the model might not be able to properly learn the data. Parameters such as these are referred to as \"hyperparameters\" or \"free parameters\", as the values for these are determined by the user and not the algorithm.\n",
        "\n",
        "A quick and efficient way to optimize hyperparameters is to perform Grid Search over different values of the parameters."
      ]
    },
    {
      "cell_type": "code",
      "execution_count": null,
      "metadata": {
        "id": "vH6HzdEB5JLP"
      },
      "outputs": [],
      "source": [
        "from sklearn.model_selection import GridSearchCV"
      ]
    },
    {
      "cell_type": "code",
      "execution_count": null,
      "metadata": {
        "id": "9qQPsqjm5Mfb"
      },
      "outputs": [],
      "source": [
        "# In the below dictionary, fill in the list of values that you want to try out for each parameter\n",
        "# Refer to the descriptions in sklearn.ensemble.RandomForestClassifier's doc to understand what the parameters depict\n",
        "\n",
        "param_grid = {\n",
        "    'max_depth': [],\n",
        "    'max_features': [],\n",
        "    'min_samples_leaf': [],\n",
        "    'min_samples_split': [],\n",
        "    'n_estimators': []\n",
        "}"
      ]
    },
    {
      "cell_type": "code",
      "execution_count": null,
      "metadata": {
        "id": "8bIILs6ZdKzk"
      },
      "outputs": [],
      "source": [
        "rf = RandomForestClassifier(random_state=30)"
      ]
    },
    {
      "cell_type": "code",
      "execution_count": null,
      "metadata": {
        "id": "pwKYkjAM510B"
      },
      "outputs": [],
      "source": [
        "grid_search = GridSearchCV(estimator = rf, scoring='recall', param_grid = param_grid,\n",
        "                          cv = 3, n_jobs = -1, verbose = 2)"
      ]
    },
    {
      "cell_type": "code",
      "execution_count": null,
      "metadata": {
        "id": "adfXnU4qBuKj"
      },
      "outputs": [],
      "source": [
        "### Fit on the training data with all sets of parameters.\n",
        "### WRITE CODE HERE ###\n"
      ]
    },
    {
      "cell_type": "markdown",
      "metadata": {
        "id": "Ebakm868CRn0"
      },
      "source": [
        "Display the parameters of the best model."
      ]
    },
    {
      "cell_type": "code",
      "execution_count": null,
      "metadata": {
        "id": "1hXn1Bx3CMQG"
      },
      "outputs": [],
      "source": [
        "# Print the best parameters\n",
        "### WRITE CODE HERE ###\n"
      ]
    },
    {
      "cell_type": "code",
      "execution_count": null,
      "metadata": {
        "id": "VFZfOfsZCXTD"
      },
      "outputs": [],
      "source": [
        "# Print the best score\n"
      ]
    },
    {
      "cell_type": "code",
      "execution_count": null,
      "metadata": {
        "id": "xf-7OQJCCq56"
      },
      "outputs": [],
      "source": [
        "### Using the best model, do the following:\n",
        "### Make predictions on the training set and display accuracy, precision and recall.\n",
        "### Make predictions on the validation set and display accuracy, precision and recall.\n",
        "\n",
        "### Using the best model, do the following:\n",
        "### Make predictions on the training set and display accuracy, precision and recall.\n",
        "### WRITE CODE HERE ###\n",
        "\n",
        "\n",
        "### Make predictions on the validation set and display accuracy, precision and recall.\n",
        "### WRITE CODE HERE ###\n"
      ]
    },
    {
      "cell_type": "code",
      "execution_count": null,
      "metadata": {
        "id": "M5m5sQo-GEbr"
      },
      "outputs": [],
      "source": [
        "# Plot the ROC curve on validation set by giving appropriate names for title and axes.\n",
        "\n",
        "### WRITE CODE HERE\n"
      ]
    },
    {
      "cell_type": "markdown",
      "metadata": {
        "id": "cvd27HmbGX9h"
      },
      "source": [
        "### Individual student contribution"
      ]
    },
    {
      "cell_type": "markdown",
      "metadata": {
        "id": "PDXLOpmetWdw"
      },
      "source": []
    }
  ],
  "metadata": {
    "colab": {
      "provenance": [],
      "include_colab_link": true
    },
    "kernelspec": {
      "display_name": "Python 3",
      "name": "python3"
    },
    "language_info": {
      "name": "python"
    }
  },
  "nbformat": 4,
  "nbformat_minor": 0
}